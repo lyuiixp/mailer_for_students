{
 "cells": [
  {
   "cell_type": "code",
   "execution_count": 20,
   "metadata": {},
   "outputs": [],
   "source": [
    "import smtplib\n",
    "from email.mime.text import MIMEText\n",
    "####################################메일 제목 수정###################################\n",
    "def send_mail(s, ID, ID_r, name, score, total_score, title=\"[Rokey BootCamp] ROS2 평가 결과 안내\", header_title=\"ROS2 평가 결과\"):\n",
    "    \n",
    "    # 점수 백분율 계산\n",
    "    percentage = round(score / total_score * 100, 2)\n",
    "    \n",
    "    content = f\"\"\"\n",
    "    <html>\n",
    "    <head>\n",
    "        <meta charset=\"UTF-8\">\n",
    "        <title>{header_title} 안내</title>\n",
    "    </head>\n",
    "    <body style=\"font-family: '맑은 고딕', Arial, sans-serif; background-color: #f7f7f7; margin: 0; padding: 20px;\">\n",
    "        <div style=\"max-width: 600px; margin: auto; background-color: #ffffff; border-radius: 8px; overflow: hidden; box-shadow: 0 2px 8px rgba(0,0,0,0.1);\">\n",
    "            <!-- 상단 배너 -->\n",
    "            <div style=\"background-color: #50bcdf; padding: 20px; text-align: center;\">\n",
    "                <h1 style=\"color: #ffffff; margin: 0;\">{header_title}</h1>\n",
    "            </div>\n",
    "            <!-- 본문 내용 -->\n",
    "            <div style=\"padding: 30px; color: #333333;\">\n",
    "                <h2 style=\"margin-top: 0;\">안녕하세요, {name} 수강생님</h2>\n",
    "                <p>이번 {header_title}를 안내해드립니다.</p>\n",
    "                <table style=\"width: 100%; border-collapse: collapse; margin-top: 20px;\">\n",
    "                    <tr>\n",
    "                        <td style=\"background-color: #f9f9f9; padding: 15px; border: 1px solid #dddddd;\"><strong>총점</strong></td>\n",
    "                        <td style=\"background-color: #f9f9f9; padding: 15px; border: 1px solid #dddddd; text-align: right;\">{score} / {total_score}</td>\n",
    "                    </tr>\n",
    "                    <tr>\n",
    "                        <td style=\"background-color: #ffffff; padding: 15px; border: 1px solid #dddddd;\"><strong>백분율 점수</strong></td>\n",
    "                        <td style=\"background-color: #ffffff; padding: 15px; border: 1px solid #dddddd; text-align: right;\">{percentage} 점</td>\n",
    "                    </tr>\n",
    "                </table>\n",
    "                <p style=\"margin-top: 20px;\">수고 많으셨습니다. 앞으로도 더욱 발전하시기를 바랍니다.</p>\n",
    "                <p>감사합니다.</p>\n",
    "                <!-- 서명 -->\n",
    "                <p style=\"font-size: 16px; color: #555555; text-align: right; margin-top: 50px;\">- Rokey BootCamp 드림 -</p>\n",
    "            </div>\n",
    "        </div>\n",
    "    </body>\n",
    "    </html>\n",
    "    \"\"\"\n",
    "\n",
    "    # MIMEText 객체 생성 시 html 형식으로 설정\n",
    "    msg = MIMEText(content, 'html')\n",
    "    msg['Subject'] = title\n",
    "\n",
    "    # 이메일 전송\n",
    "    print(f'{name.ljust(4)} 수강생{(\"(\" + ID_r + \")\").ljust(30)} 메일 발송 완료, 성적: {score}')\n",
    "\n",
    "    s.sendmail(ID, ID_r, msg.as_string())\n",
    "\n",
    "    return content\n"
   ]
  },
  {
   "cell_type": "code",
   "execution_count": 21,
   "metadata": {},
   "outputs": [
    {
     "name": "stdout",
     "output_type": "stream",
     "text": [
      "   내부 응시번호    이름                     이메일  상태    점수\n",
      "0        1  홍길동1  woomann@teamsparkx.com  완료  2200\n",
      "1        2  홍길동2     woo10000k@gmail.com  완료  2700\n",
      "2        3  홍길동3    231226dbai@gmail.com  완료  3800\n",
      "login\n"
     ]
    }
   ],
   "source": [
    "import pandas as pd\n",
    "####################################사용할 csv로 수정###################################\n",
    "#df = pd.read_csv(\"3nd_ROS2_results.csv\", sep=\",\")\n",
    "\n",
    "try:\n",
    "    df = pd.read_csv(\"3nd_ROS2_results.csv\", sep=\",\", encoding=\"utf-8\")\n",
    "except UnicodeDecodeError:\n",
    "    df = pd.read_csv(\"3nd_ROS2_results.csv\", sep=\",\", encoding=\"cp949\")\n",
    "####################################사용할 csv로 수정###################################\n",
    "print(df.head())\n",
    "\n",
    "ID = \"sparkx.manager@teamsparkx.com\"\n",
    "PW = \"zgpr\\xa0hqkm\\xa0xefe\\xa0rvzi\".replace(\"\\xa0\", \" \")  # non-breaking space를 일반 공백으로 대체\n",
    "\n",
    "s = smtplib.SMTP_SSL(\"smtp.gmail.com\")\n",
    "s.login(ID, PW)\n",
    "\n",
    "print(\"login\")\n"
   ]
  },
  {
   "cell_type": "code",
   "execution_count": 22,
   "metadata": {},
   "outputs": [
    {
     "name": "stdout",
     "output_type": "stream",
     "text": [
      "Index(['내부 응시번호', '이름', '이메일', '상태', '점수'], dtype='object')\n",
      "홍길동1 수강생(woomann@teamsparkx.com)       메일 발송 완료, 성적: 2200\n",
      "홍길동2 수강생(woo10000k@gmail.com)          메일 발송 완료, 성적: 2700\n",
      "홍길동3 수강생(231226dbai@gmail.com)         메일 발송 완료, 성적: 3800\n",
      "모든 이메일 발송 완료\n"
     ]
    }
   ],
   "source": [
    "# 각 수강생에게 이메일 발송\n",
    "####################################전체 점수 수정###################################\n",
    "total_score = 3900  # 전체 점수를 2700으로 설정\n",
    "####################################전체 점수 수정###################################\n",
    "for index, row in df.iterrows():\n",
    "    name = row['이름']              # 수강생 이름이 들어있는 열\n",
    "    email = row['이메일']           # 수강생 이메일이 들어있는 열\n",
    "    score = row['점수']             # 수강생 점수가 들어있는 열\n",
    "    \n",
    "    # 메일 발송 함수 호출\n",
    "    send_mail(s, ID, email, name, score, total_score)\n",
    "\n",
    "# 발송 후 SMTP 연결 종료\n",
    "s.quit()\n",
    "print(\"모든 이메일 발송 완료\")"
   ]
  },
  {
   "cell_type": "code",
   "execution_count": 7,
   "metadata": {},
   "outputs": [
    {
     "name": "stdout",
     "output_type": "stream",
     "text": [
      "홍길동1 수강생(myunghak9716@gmail.com)       메일 발송 완료, 성적: 2200\n"
     ]
    }
   ],
   "source": [
    "# for i, d in df.iterrows():\n",
    "#     if type(d['이름']) == str:\n",
    "#         name = d['이름'].replace(\"B\", \"\")\n",
    "#         name = name.replace(\"A\", \"\")\n",
    "#         mail = d['이메일'].replace(\" \", \"\")\n",
    "#         mail = \"myunghak9716@gmail.com\"\n",
    "#         mail_str = send_mail(s, ID, mail, name, d['점수'], total_score=1500)\n",
    "#         # print(\"=\" * 100)\n",
    "#         break"
   ]
  },
  {
   "cell_type": "code",
   "execution_count": null,
   "metadata": {},
   "outputs": [],
   "source": []
  }
 ],
 "metadata": {
  "kernelspec": {
   "display_name": "study",
   "language": "python",
   "name": "python3"
  },
  "language_info": {
   "codemirror_mode": {
    "name": "ipython",
    "version": 3
   },
   "file_extension": ".py",
   "mimetype": "text/x-python",
   "name": "python",
   "nbconvert_exporter": "python",
   "pygments_lexer": "ipython3",
   "version": "3.10.9"
  }
 },
 "nbformat": 4,
 "nbformat_minor": 2
}
